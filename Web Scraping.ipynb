{
 "cells": [
  {
   "cell_type": "raw",
   "metadata": {},
   "source": [
    "!pip install gazpacho\n",
    "!pip install PyMySql\n",
    "!pip install tabulate"
   ]
  },
  {
   "cell_type": "code",
   "execution_count": null,
   "metadata": {},
   "outputs": [],
   "source": [
    "import pandas as pd\n",
    "from time import sleep\n",
    "from datetime import datetime as dt\n",
    "import re\n",
    "import libDatabase as db                  #Script used as Library, build on PyMySql to insert data in Mysql Tables and handle exceptions. \n",
    "from tabulate import tabulate\n",
    "import matplotlib.pyplot as plt\n",
    "import seaborn as sns\n",
    "from gazpacho import get, Soup\n",
    "\n",
    "%matplotlib inline"
   ]
  },
  {
   "cell_type": "markdown",
   "metadata": {},
   "source": [
    "#### Credentials for DB"
   ]
  },
  {
   "cell_type": "code",
   "execution_count": null,
   "metadata": {},
   "outputs": [],
   "source": [
    "\n",
    "host=\"localhost\"\n",
    "port=3306\n",
    "user_name = \"bhavesh1\"\n",
    "password = \"Pass#123\"\n",
    "schema_=\"L00150830\"\n",
    "\n",
    "#db.open_database(host=host, port=port, user_name = user_name,password = password, schema_=schema_)\n"
   ]
  },
  {
   "cell_type": "code",
   "execution_count": null,
   "metadata": {
    "scrolled": true
   },
   "outputs": [],
   "source": [
    "URL = \"https://en.wikipedia.org/wiki/List_of_prime_ministers_of_the_United_Kingdom#18th_century\"\n",
    "URL_1 = \"https://en.wikipedia.org\"\n",
    "\n",
    "soup = Soup(get(URL))\n",
    "data = soup.find(\"table\")\n",
    "imp_data = data[1].find(\"tr\")[2:]"
   ]
  },
  {
   "cell_type": "code",
   "execution_count": null,
   "metadata": {},
   "outputs": [],
   "source": [
    "rank = \"Earl|Duke|Marquess|Lord|Viscount|Baron|Sir\"\n",
    "\n",
    "prime_minister = []\n",
    "prime_minister_2 = []\n",
    "prime_minister_1 = []\n",
    "year_of_start = []\n",
    "year_of_end = []\n",
    "party = []\n",
    "URL_S = []\n",
    "\n"
   ]
  },
  {
   "cell_type": "markdown",
   "metadata": {},
   "source": [
    "#### Scraping PM, Start Date, End Date, Rank and links for wikipedia page of individual PM"
   ]
  },
  {
   "cell_type": "code",
   "execution_count": null,
   "metadata": {},
   "outputs": [],
   "source": [
    "\n",
    "i = 0\n",
    "list_i = []\n",
    "while i < len(imp_data)-1:\n",
    "    #print (i)\n",
    "    rowspan = imp_data[i].find(\"td\")[2].attrs.get(\"rowspan\")\n",
    "    list_i.append(i)\n",
    "    rowspan = int(rowspan)#if rowspan is not None else 1\n",
    "    if type(imp_data[i].find(\"td\")[2].find(\"a\"))  is list:\n",
    "        \n",
    "        if imp_data[i].find(\"td\")[2].find(\"a\")[0].text == \"Sir\":\n",
    "            #print(\"1sir\")\n",
    "            prime_minister = prime_minister + [imp_data[i].find(\"td\")[2].find(\"a\")[0].attrs.get(\"title\")+\", \" +imp_data[i].find(\"td\")[2].find(\"a\")[0].text]\n",
    "            \n",
    "        else:\n",
    "            prime_minister = prime_minister + [imp_data[i].find(\"td\")[2].find(\"a\")[0].attrs.get(\"title\")]#* rowspan\n",
    "        URL_S.append(URL_1 + imp_data[i].find(\"td\")[2].find(\"a\")[0].attrs.get(\"href\"))\n",
    "        #party = party + [imp_data[i].find(\"td\")[6].text]\n",
    "    \n",
    "    else:\n",
    "        \n",
    "        URL_S.append(URL_1 + imp_data[i].find(\"td\")[2].find(\"a\").attrs.get(\"href\"))\n",
    "        if imp_data[i].find(\"td\")[2].find(\"a\").text == \"Sir\":\n",
    "            #print(\"2sir\", i)\n",
    "            prime_minister = prime_minister + [imp_data[i].find(\"td\")[2].find(\"a\").attrs.get(\"title\") +\", \" + imp_data[i].find(\"td\")[2].find(\"a\").text]\n",
    "        else:    \n",
    "            prime_minister = prime_minister + [imp_data[i].find(\"td\")[2].find(\"a\").attrs.get(\"title\")]#* rowspan\n",
    "        \n",
    "        #party = party + [imp_data[i].find(\"td\")[6].find(\"a\").attrs.get(\"title\")]#* rowspan\n",
    "        #try:\n",
    "            #party = party + [imp_data[i].find(\"td\")[6].find(\"a\").attrs.get(\"title\")]#* rowspan\n",
    "        #except:\n",
    "            #party = party + [imp_data[i].find(\"td\")[6].find(\"a\")[0].attrs.get(\"title\")]\n",
    "            \n",
    "\n",
    "    party.append(imp_data[i].find(\"td\")[0].attrs.get(\"bgcolor\"))\n",
    "        \n",
    "        \n",
    "    if imp_data[i].find(\"td\")[3].strip(\"br\")[:-1] == \"See also § Main articles:\":\n",
    "        \n",
    "        year_of_start = year_of_start +[imp_data[i+1].find(\"td\")[0].strip(\"br\")] #* rowspan\n",
    "        year_of_end = year_of_end+[imp_data[i+1].find(\"td\")[1].strip(\"br\")]\n",
    "    else:\n",
    "        year_of_start = year_of_start +[imp_data[i].find(\"td\")[3].strip(\"br\")] #* rowspan\n",
    "        year_of_end = year_of_end+[imp_data[i].find(\"td\")[4].strip(\"br\")]\n",
    "        \n",
    "    i += rowspan\n",
    "    \n"
   ]
  },
  {
   "cell_type": "code",
   "execution_count": null,
   "metadata": {},
   "outputs": [],
   "source": [
    "prime_minister_1 = [name.split(\",\")[0] for name in prime_minister]\n",
    "\n",
    "for name in prime_minister:\n",
    "    if len(name.split(\",\")) > 1:\n",
    "        prime_minister_2.append(re.findall(rank, name.split(\",\")[1])[0])\n",
    "    else:\n",
    "        prime_minister_2.append(\"No Rank\")\n",
    "\n",
    "year_of_start = [dt.strptime(date_time, '%d %B%Y').strftime(\"%Y-%m-%d\") for date_time in year_of_start]\n",
    "year_of_end[-1] = dt.now().strftime(\"%d %B%Y\")\n",
    "year_of_end = [dt.strptime(date_time, '%d %B%Y').strftime(\"%Y-%m-%d\") for date_time in year_of_end ]"
   ]
  },
  {
   "cell_type": "code",
   "execution_count": null,
   "metadata": {
    "scrolled": true
   },
   "outputs": [],
   "source": [
    "new_labels = ['Whig', 'Tory', 'Conservative', 'Liberal', 'Labour']\n",
    "old_labels = [\"#FF7F00\", \"#3333CC\", \"#0087DC\", \"#ffd700\", \"#E4003B\"]\n",
    "\n",
    "df = pd.DataFrame({\"Prime_Minister\":prime_minister_1, \"URL\": URL_S,\"Rank\":prime_minister_2 ,\"Party\":party,\"Year_of_start\": year_of_start, \"Year_of_end\":year_of_end})\n",
    "df['Party'] = df['Party'].replace(old_labels, new_labels)\n",
    "\n",
    "df.head()\n"
   ]
  },
  {
   "cell_type": "markdown",
   "metadata": {},
   "source": [
    "#### Looping through Wikipedia pages of every PM and scraping Date Of Brith"
   ]
  },
  {
   "cell_type": "code",
   "execution_count": null,
   "metadata": {},
   "outputs": [],
   "source": [
    "DOB = []\n",
    "months = [\"January\", \"February\", \"March\", \"April\", \"May\", \"June\", \"July\", \"August\", \"September\", \"October\", \"November\", \"December\"]\n",
    "\n",
    "\n",
    "for idx, URL in enumerate (df.iloc[:,1]):\n",
    "#URL = df.iloc[1,1]\n",
    "\n",
    "    soup = Soup(get(URL))\n",
    "    data = soup.find(\"table\")\n",
    "    #print(df.iloc[idx,0],\"--\" , idx)\n",
    "\n",
    "    for dat in data:\n",
    "        if dat.attrs.get(\"class\") == \"infobox vcard\":\n",
    "            if type(dat.find(\"tr\")) is list:\n",
    "                for row in dat.find(\"tr\"):\n",
    "                    if row.find(\"th\") is not None:\n",
    "                        if type(row.find(\"th\")) is list:\n",
    "                            for new_rows in row.find(\"th\"):\n",
    "                                if new_rows.find(\"th\").text == \"Born\":\n",
    "                                    #print(df.iloc[idx,0], \"-->\",row[0].find(\"td\").strip(\"br\"))\n",
    "                                    DOB.append(df.iloc[idx,0], \"-->\",row[0].find(\"td\").strip(\"br\"))\n",
    "\n",
    "                        else:\n",
    "                            \n",
    "                            if row.find(\"th\").text == \"Born\":\n",
    "                                D_O_B =  row.find(\"td\").strip(\"br\")\n",
    "                                if D_O_B[D_O_B.find(\"(\") + 1: D_O_B.find(\"(\") + 11][0].isalpha() == False:\n",
    "                                    #print(D_O_B[D_O_B.find(\"(\") + 1: D_O_B.find(\"(\") + 11])\n",
    "                                    DOB.append(D_O_B[D_O_B.find(\"(\") + 1: D_O_B.find(\"(\") + 11])\n",
    "                                \n",
    "                                else:\n",
    "                                    if D_O_B[D_O_B.find(\"(\") + 1: D_O_B.find(\"(\") + 11] == \"c. 1674Com\":\n",
    "                                        #print(\"1674-01-01\")\n",
    "                                        DOB.append(\"1674-01-01\")\n",
    "                                    for month in months:\n",
    "                                        if D_O_B.find(month) > 0:\n",
    "                                            #print(dt.strptime(D_O_B[D_O_B.find(month) + -2: D_O_B.find(month) +len(month) +5], '%d %B %Y').strftime('%Y-%m-%d'))\n",
    "                                            DOB.append(dt.strptime(D_O_B[D_O_B.find(month) + -2: D_O_B.find(month) +len(month) +5], '%d %B %Y').strftime('%Y-%m-%d'))\n",
    "                                     \n",
    "            else:\n",
    "                \n",
    "                print(df.iloc[idx,1])\n",
    "                #print (data)\n",
    "                print(\"-----------------\")\n",
    "                DOB.append(\"NA\")\n",
    "\n",
    "\n",
    "\n",
    "        \n",
    "        \n"
   ]
  },
  {
   "cell_type": "code",
   "execution_count": null,
   "metadata": {},
   "outputs": [],
   "source": [
    "df[\"Date_Of_Birth\"] = DOB\n",
    "#df[\"Date_Of_Death\"] = DOD\n",
    "#df_PM.to_csv(\"sample2.csv\")\n",
    "df.info()\n"
   ]
  },
  {
   "cell_type": "code",
   "execution_count": null,
   "metadata": {},
   "outputs": [],
   "source": [
    "i = 0 \n",
    "dates = []\n",
    "Run_Flag = True\n",
    "\n",
    "while Run_Flag:\n",
    "    #print(i)\n",
    "    if type(imp_data[i].find(\"td\")) is list:\n",
    "        length = len(imp_data[i].find(\"td\"))\n",
    "        if length > 5:\n",
    "            rowspan = imp_data[i].find(\"td\")[-2].attrs.get(\"rowspan\")\n",
    "            rowspan = int(rowspan) if rowspan is not None else 1\n",
    "            dates.append(imp_data[i].find(\"td\")[-2].strip(\"p\"))\n",
    "        else:\n",
    "            rowspan = imp_data[i].find(\"td\")[-1].attrs.get(\"rowspan\")\n",
    "            rowspan = int(rowspan) if rowspan is not None else 1\n",
    "            dates.append(imp_data[i].find(\"td\")[-1].strip(\"p\"))\n",
    "            \n",
    "    else:\n",
    "        if imp_data[i].find(\"td\") is not None:\n",
    "            rowspan = imp_data[i].find(\"td\").attrs.get(\"rowspan\")\n",
    "            rowspan = int(rowspan) if rowspan is not None else 1\n",
    "            dates.append(imp_data[i].find(\"td\").strip(\"p\"))\n",
    "        else:\n",
    "            dates.append(imp_data[i].find(\"th\")[-1].strip(\"p\"))\n",
    "\n",
    "            \n",
    "        \n",
    "        \n",
    "    #dates.append(imp_data[i].find(\"td\")[-2].strip(\"p\").replace(imp_data[0].find(\"td\")[-2].text, \"\").replace(\" \", \"\").split(\"–\"))\n",
    "    #dates.append(imp_data[i].find(\"td\")[-2].strip(\"p\"))\n",
    "    i += rowspan\n",
    "    if dates[-1] == \"Elizabeth II 1952–present\":\n",
    "        dates[-1] = dates[-1].replace(\"present\", \"2020\")\n",
    "        Run_Flag = False\n",
    "\n",
    "#dates_1 = [dates.split(\" \")[:2] for dates in dates]\n",
    "dates[-3] += \"–1936\"\n",
    "dates"
   ]
  },
  {
   "cell_type": "code",
   "execution_count": null,
   "metadata": {},
   "outputs": [],
   "source": [
    "monarch = list(map(lambda date: ''.join([i for i in date if i.isalpha()]), dates))\n",
    "date_1 = list(map(lambda date: ''.join([i for i in date if i.isdigit()]), dates))\n",
    "from_date = [date[:4] + \"-01-01\" for date in date_1]\n",
    "to_date = [date[4:]+\"-01-01\" for date in date_1]"
   ]
  },
  {
   "cell_type": "code",
   "execution_count": null,
   "metadata": {},
   "outputs": [],
   "source": [
    "df_monarch = pd.DataFrame({\"Monarch\": monarch, \"Start_Date\": from_date, \"End_Date\":to_date})\n",
    "#df_monarch.End_Date = pd.to_datetime(df_monarch.End_Date)\n",
    "#df_monarch.Start_Date = pd.to_datetime(df_monarch.Start_Date)\n",
    "df_monarch.to_csv(\"monarch.csv\")\n",
    "\n",
    "df_monarch.head()"
   ]
  },
  {
   "cell_type": "markdown",
   "metadata": {},
   "source": [
    "#### Inserting Data into DB"
   ]
  },
  {
   "cell_type": "code",
   "execution_count": null,
   "metadata": {},
   "outputs": [],
   "source": [
    "from time import sleep\n",
    "db.open_database(host=host, port=port, user_name = user_name,password = password, schema_=schema_)\n",
    "sleep(2)\n",
    "for indx, rows in df.iterrows():\n",
    "    db.insert_person(rows[\"Prime_Minister\"], rows[\"Rank\"], rows[\"Party\"], rows[\"Year_of_start\"], rows[\"Year_of_end\"], rows[\"Date_Of_Birth\"])\n",
    "\n",
    "for indx, rows in df_monarch.iterrows():  \n",
    "    db.insert_monarch(rows['Monarch'],rows['Start_Date'], rows['End_Date'] )\n",
    "db.close_database()"
   ]
  },
  {
   "cell_type": "markdown",
   "metadata": {},
   "source": [
    "### Q1. Which political party has produced the most individual prime ministers?"
   ]
  },
  {
   "cell_type": "code",
   "execution_count": null,
   "metadata": {},
   "outputs": [],
   "source": [
    "db.open_database(host=host, port=port, user_name = user_name,password = password, schema_=schema_)\n",
    "out = db.db_cmd_execute(\"select distinct Party from C00265741.Persons ;\")\n",
    "list_of_parties = [party[0] for party in out]\n",
    "count_of_parties = []\n",
    "for party in list_of_parties:\n",
    "    count_of_parties.append(db.db_cmd_execute(\"select count(*) from C00265741.Persons where Party = '\"+ str(party) +\"' ;\")[0][0])\n",
    "\n",
    "print(\"Political party has produced the most individual prime ministers is: \\033[1m\", list_of_parties[count_of_parties.index(max(count_of_parties))], \"\\033[0m\")\n",
    "db.close_database()"
   ]
  },
  {
   "cell_type": "markdown",
   "metadata": {},
   "source": [
    "### Q2. Provide a list of prime ministers who served under each monarch."
   ]
  },
  {
   "cell_type": "code",
   "execution_count": null,
   "metadata": {},
   "outputs": [],
   "source": [
    "db.open_database(host=host, port=port, user_name = user_name,password = password, schema_=schema_)\n",
    "list_of_monarch = db.db_cmd_execute(\"select Monarch from C00265741.Monarchs ;\")\n",
    "list_of_monarch = [monarch[0] for monarch in list_of_monarch]\n",
    "prime_ministers_monarch = {}\n",
    "prime_ministers_monarch_1 = {}\n",
    "\n",
    "for monarch in list_of_monarch:\n",
    "    prime_ministers = db.db_cmd_execute(\"SELECT * FROM C00265741.Persons \\\n",
    "            where StartDate > (SELECT StartDate FROM C00265741.Monarchs where Monarch = '\"+str(monarch)+\"') and \\\n",
    "            StartDate < (SELECT EndDate FROM C00265741.Monarchs where Monarch = '\"+str(monarch)+\"')\")\n",
    "    prime_ministers_monarch[monarch] = [minister[0] for minister in prime_ministers]\n",
    "    \n",
    "    prime_ministers = db.db_cmd_execute(\"SELECT * FROM C00265741.Persons \\\n",
    "            where EndDate > (SELECT StartDate FROM C00265741.Monarchs where Monarch = '\"+str(monarch)+\"') and \\\n",
    "            EndDate < (SELECT EndDate FROM C00265741.Monarchs where Monarch = '\"+str(monarch)+\"')\")\n",
    "    prime_ministers_monarch_1[monarch] = [minister[0] for minister in prime_ministers]\n",
    "\n",
    "    \n",
    "for key in prime_ministers_monarch:\n",
    "    temp = []\n",
    "    print(\"\\033[1m\" +key+ \"\\033[0m\", end = ' -->  \\n')\n",
    "\n",
    "    for name in prime_ministers_monarch[key]:\n",
    "        temp.append(name)\n",
    "        \n",
    "    for name in prime_ministers_monarch_1[key]:\n",
    "        temp.append(name)\n",
    "        \n",
    "    for name in set (temp):\n",
    "        pass\n",
    "        print(name)\n",
    "    print(\"--\"*50)\n",
    "    \n",
    "db.close_database()"
   ]
  },
  {
   "cell_type": "markdown",
   "metadata": {},
   "source": [
    "### Q3. Which political party held the office of prime minister for the longest amount of overall time, and for how long (in years, months, and days)?"
   ]
  },
  {
   "cell_type": "markdown",
   "metadata": {},
   "source": [
    "#### Function for converting Days to Year, Month and Days"
   ]
  },
  {
   "cell_type": "code",
   "execution_count": null,
   "metadata": {},
   "outputs": [],
   "source": [
    "def find_year( number_of_days ):\n",
    "    if number_of_days is None:\n",
    "        return(0, 0, 0)\n",
    "    else:\n",
    "        number_of_days = int(number_of_days)\n",
    "        year = int(number_of_days / 365.25)\n",
    "        months = int(round((number_of_days  % 365.25) / 30.436875, 0))\n",
    "        days = int(round ((number_of_days  % 365.25) % 30.436875, 0))\n",
    "        return(year, months, days)"
   ]
  },
  {
   "cell_type": "code",
   "execution_count": null,
   "metadata": {
    "scrolled": true
   },
   "outputs": [],
   "source": [
    "db.open_database(host=host, port=port, user_name = user_name,password = password, schema_=schema_)\n",
    "\n",
    "number_of_days = []\n",
    "for party in list_of_parties:\n",
    "    term_start_end_dates = db.db_cmd_execute (\"SELECT sum(datediff(EndDate, StartDate)) FROM C00265741.Persons where Party = '\"+str(party)+\"'\")[0][0]\n",
    "    number_of_days.append(term_start_end_dates)\n",
    "duration = find_year(max(number_of_days))\n",
    "\n",
    "print(\"Political party held the office of prime minister for the longest amount of overall time is: \\033[1m\", \n",
    "      list_of_parties[number_of_days.index(max(number_of_days))], \"\\033[0m \\ni.e for \",duration[0],\" Years \",duration[1],\" Months and \",duration[2],\" Days\")\n",
    "\n",
    "db.close_database()"
   ]
  },
  {
   "cell_type": "markdown",
   "metadata": {},
   "source": [
    "### Q4. Which individual politician held the office of prime minister for the longest amount of uninterrupted time, and for how long (in years, months, and days)?"
   ]
  },
  {
   "cell_type": "code",
   "execution_count": null,
   "metadata": {},
   "outputs": [],
   "source": [
    "db.open_database(host=host, port=port, user_name = user_name,password = password, schema_=schema_)\n",
    "\n",
    "out = db.db_cmd_execute (\"select PrimeMinister, datediff(EndDate, StartDate) from C00265741.Persons \\\n",
    "                    order by datediff(EndDate, StartDate) desc limit 1;\")[0]\n",
    "\n",
    "duration = find_year(out[1])\n",
    "\n",
    "print(\"Prime Minister held the office of prime minister for the longest amount of of uninterrupted time is: \\033[1m\",out[0], \"\\033[0m \\ni.e for \",duration[0],\" Years \",duration[1],\" Months and \",duration[2],\" Days\")\n",
    "\n",
    "db.close_database()"
   ]
  },
  {
   "cell_type": "markdown",
   "metadata": {},
   "source": [
    "### Q5. Which individual politician has held the office of prime ministers for the longest amount of overall time?"
   ]
  },
  {
   "cell_type": "code",
   "execution_count": null,
   "metadata": {
    "scrolled": false
   },
   "outputs": [],
   "source": [
    "db.open_database(host=host, port=port, user_name = user_name,password = password, schema_=schema_)\n",
    "\n",
    "out = db.db_cmd_execute(\"select distinct PrimeMinister from C00265741.Persons ;\")\n",
    "list_of_PrimeMinister = [minister[0] for minister in out]\n",
    "list_of_overall_time = []\n",
    "for minister in list_of_PrimeMinister:\n",
    "    out = db.db_cmd_execute(\"SELECT  sum(datediff(EndDate, StartDate))  FROM C00265741.Persons \\\n",
    "                                where PrimeMinister = '\"+ str(minister)+\"';\")[0][0]\n",
    "    list_of_overall_time.append(out)\n",
    "    \n",
    "df_temp = pd.DataFrame({\"PM\":list_of_PrimeMinister,\"time\":list_of_overall_time})\n",
    "overall_longest = df_temp[df_temp.time == df_temp.time.max()].values[0]  \n",
    "duration = find_year(int(overall_longest[1]))\n",
    "\n",
    "print(\"Politician has held the office of prime ministers for the longest amount of overall time: \\033[1m\",overall_longest[0], \"\\033[0m \\ni.e for \",duration[0],\" Years \",duration[1],\" Months and \",duration[2],\" Days\")\n",
    "\n",
    "db.close_database()\n",
    "\n"
   ]
  },
  {
   "cell_type": "markdown",
   "metadata": {},
   "source": [
    "### Q6. Which individual politician held the office of prime minister for the shortest amount of overall time, and for how long (in years, months, and days)?"
   ]
  },
  {
   "cell_type": "code",
   "execution_count": null,
   "metadata": {},
   "outputs": [],
   "source": [
    "db.open_database(host=host, port=port, user_name = user_name,password = password, schema_=schema_)\n",
    "\n",
    "out = db.db_cmd_execute(\"select distinct PrimeMinister from C00265741.Persons ;\")\n",
    "list_of_PrimeMinister = [minister[0] for minister in out]\n",
    "list_of_overall_time = []\n",
    "for minister in list_of_PrimeMinister:\n",
    "    out = db.db_cmd_execute(\"SELECT  sum(datediff(EndDate, StartDate))  FROM C00265741.Persons \\\n",
    "                                where PrimeMinister = '\"+ str(minister)+\"';\")[0][0]\n",
    "    list_of_overall_time.append(out)\n",
    "    \n",
    "df_temp = pd.DataFrame({\"PM\":list_of_PrimeMinister,\"time\":list_of_overall_time})\n",
    "overall_shortest = df_temp[df_temp.time == df_temp.time.min()].values[0]  \n",
    "duration = find_year(int(overall_shortest[1]))\n",
    "\n",
    "print(\"Politician has held the office of prime ministers for the shortest amount of overall time: \\033[1m\",overall_shortest[0], \"\\033[0m \\ni.e for \",duration[0],\" Years \",duration[1],\" Months and \",duration[2],\" Days\")\n",
    "\n",
    "db.close_database()\n"
   ]
  },
  {
   "cell_type": "markdown",
   "metadata": {},
   "source": [
    "### Q7. List the prime ministers who where either an earl, viscount, duke, or knight?"
   ]
  },
  {
   "cell_type": "code",
   "execution_count": null,
   "metadata": {},
   "outputs": [],
   "source": [
    "db.open_database(host=host, port=port, user_name = user_name,password = password, schema_=schema_)\n",
    "\n",
    "ministers = db.db_cmd_execute(\"select PrimeMinister,Rank from C00265741.Persons \\\n",
    "                                where Rank = 'earl' or Rank = 'viscount' or Rank = 'duke' or \\\n",
    "                                Rank = 'Sir' order by Rank;\")\n",
    "print(tabulate(set(ministers),headers= [\"Prime Minister\", \"Rank\"], tablefmt=\"psql\"))\n",
    "    \n",
    "db.close_database()"
   ]
  },
  {
   "cell_type": "markdown",
   "metadata": {},
   "source": [
    "### Q8. What age was each prime minister on the day they assumed office?"
   ]
  },
  {
   "cell_type": "code",
   "execution_count": null,
   "metadata": {},
   "outputs": [],
   "source": [
    "db.open_database(host=host, port=port, user_name = user_name,password = password, schema_=schema_)\n",
    "\n",
    "out = db.db_cmd_execute(\"select PrimeMinister, StartDate, datediff(StartDate, DOB) from C00265741.Persons;\")\n",
    "out = [list(row[0:2])+ list(find_year(row[2])) for row in out]\n",
    "\n",
    "print(tabulate(out, tablefmt=\"fancy_grid\", headers=[\"Prime Minister\", \"Date of Assuming\", \"Age(Years)\", \"Age(Month)\", \"Age(Days)\"]))  \n",
    "db.close_database()"
   ]
  },
  {
   "cell_type": "markdown",
   "metadata": {},
   "source": [
    "### Q9. On the last day of their term of office, which politician was the oldest?"
   ]
  },
  {
   "cell_type": "code",
   "execution_count": null,
   "metadata": {},
   "outputs": [],
   "source": [
    "db.open_database(host=host, port=port, user_name = user_name,password = password, schema_=schema_)\n",
    "\n",
    "out = db.db_cmd_execute(\"select PrimeMinister, EndDate, datediff(EndDate, DOB) from C00265741.Persons;\")\n",
    "\n",
    "    \n",
    "df_temp = pd.DataFrame(out)\n",
    "age = df_temp.loc[df_temp[2] == df_temp[2].max(), :].values[0]\n",
    "duration = find_year(int(age[2]))\n",
    "\n",
    "print(\"Oldest Politician on the last day of the term: \\033[1m\",age[0], \"\\033[0m \\ni.e for \",duration[0],\" Years \",duration[1],\" Months and \",duration[2],\" Days\")\n",
    "\n",
    "db.close_database()"
   ]
  },
  {
   "cell_type": "markdown",
   "metadata": {},
   "source": [
    "### Q10. In your view, and based on statistics calculated from your scraped data, which UK political party is the most successful? Show and describe your reasoning."
   ]
  },
  {
   "cell_type": "code",
   "execution_count": null,
   "metadata": {},
   "outputs": [],
   "source": [
    "db.open_database(host=host, port=port, user_name = user_name,password = password, schema_=schema_)\n",
    "total_number_of_ministers = []\n",
    "for party in list_of_parties:\n",
    "    out = db.db_cmd_execute(\"SELECT count(PrimeMinister) FROM C00265741.Persons where Party = '\"+ str (party)+ \"';\")\n",
    "    total_number_of_ministers.append(out[0][0])\n",
    "db.close_database()\n",
    "\n",
    "sns.set(font_scale=1.8)  # crazy big\n",
    "f, axs = plt.subplots(1,2,figsize=(30,10))\n",
    "\n",
    "axs[0].pie(x=number_of_days, autopct=\"%.2f%%\",  explode=[0.05, 0.05, 0.15, 0.05, 0.05], labels=list_of_parties, pctdistance=0.7)\n",
    "axs[0].set_title('Overall Ruling ',fontsize=20)\n",
    "\n",
    "\n",
    "sns.barplot(x = total_number_of_ministers, y = list_of_parties, ax = axs[1])\n",
    "axs[1].set_title('Number of PMs from each party',fontsize=20);"
   ]
  },
  {
   "cell_type": "markdown",
   "metadata": {},
   "source": [
    "#### Conservative  has ruled UK for the longest amount of time. Moreover, Conservative had heighest number of PMs throughout the political history of UK. Thus, Conservative was the most sucesssfull party in UK.  "
   ]
  }
 ],
 "metadata": {
  "kernelspec": {
   "display_name": "Python 3",
   "language": "python",
   "name": "python3"
  },
  "language_info": {
   "codemirror_mode": {
    "name": "ipython",
    "version": 3
   },
   "file_extension": ".py",
   "mimetype": "text/x-python",
   "name": "python",
   "nbconvert_exporter": "python",
   "pygments_lexer": "ipython3",
   "version": "3.8.5"
  }
 },
 "nbformat": 4,
 "nbformat_minor": 4
}
